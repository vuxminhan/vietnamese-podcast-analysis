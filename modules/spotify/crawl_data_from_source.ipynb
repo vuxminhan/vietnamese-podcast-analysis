{
 "cells": [
  {
   "cell_type": "code",
   "execution_count": 8,
   "metadata": {
    "collapsed": true,
    "ExecuteTime": {
     "end_time": "2023-07-21T10:08:22.287634055Z",
     "start_time": "2023-07-21T10:08:22.244829639Z"
    }
   },
   "outputs": [],
   "source": [
    "import pandas as pd\n",
    "import os\n",
    "from dotenv import load_dotenv\n",
    "import matplotlib.pyplot as pl\n",
    "import numpy as np\n",
    "import seaborn as sns\n",
    "import matplotlib.pyplot as plt\n",
    "from underthesea import word_tokenize\n",
    "load_dotenv()\n",
    "PATH = (os.environ.get('P'))"
   ]
  },
  {
   "cell_type": "code",
   "execution_count": 9,
   "outputs": [
    {
     "data": {
      "text/plain": "                                             chartable  \\\n0                 Chi Nguyen, PhD.\\nThe Present Writer   \n1                               Vietcetera\\nHave A Sip   \n2                          Web5ngay\\nTâm Sự Kinh Doanh   \n3                                  Vietcetera\\nBít Tất   \n4                       Giang ơi Radio\\nGiang ơi Radio   \n..                                                 ...   \n195                                           MR BLANC   \n196  Luke Thompson\\nLuke's ENGLISH Podcast - Learn ...   \n197  Hành trình về Phương Đông (Bản FULL Sách nói h...   \n198                                   Thư Lê Elite Guy   \n199                                       Hà Nội Radio   \n\n                                               spotify  \\\n0    https://open.spotify.com/show/3KAOtwtuHrBznKxk...   \n1    https://open.spotify.com/show/39GCuBVNprJymsZi...   \n2    https://open.spotify.com/show/3vhBp6pPJEYgGfOX...   \n3    https://open.spotify.com/show/5wBkOONYurtHuTRg...   \n4    https://open.spotify.com/show/0X0b4Wb7cgvs7UCV...   \n..                                                 ...   \n195  https://open.spotify.com/show/1mXARZXjYKWmb1Gs...   \n196  https://open.spotify.com/show/4X48gpjrctXNJWtO...   \n197  https://open.spotify.com/show/5f4B7Wc42i739wJy...   \n198                                                NaN   \n199  https://open.spotify.com/show/6neZtblsMoixE6MD...   \n\n                                          youtube  \n0       https://www.youtube.com/@ThePresentWriter  \n1             https://www.youtube.com/@vietcetera  \n2                    https://youtube.com/Web5Ngay  \n3             https://www.youtube.com/@vietcetera  \n4                https://www.youtube.com/@GiangOi  \n..                                            ...  \n195            https://www.youtube.com/@mrblancuk  \n196  https://www.youtube.com/@LukesEnglishPodcast  \n197               https://www.youtube.com/@VoizFM  \n198   https://www.youtube.com/watch?v=p19UgpkKOSc  \n199                                           NaN  \n\n[200 rows x 3 columns]",
      "text/html": "<div>\n<style scoped>\n    .dataframe tbody tr th:only-of-type {\n        vertical-align: middle;\n    }\n\n    .dataframe tbody tr th {\n        vertical-align: top;\n    }\n\n    .dataframe thead th {\n        text-align: right;\n    }\n</style>\n<table border=\"1\" class=\"dataframe\">\n  <thead>\n    <tr style=\"text-align: right;\">\n      <th></th>\n      <th>chartable</th>\n      <th>spotify</th>\n      <th>youtube</th>\n    </tr>\n  </thead>\n  <tbody>\n    <tr>\n      <th>0</th>\n      <td>Chi Nguyen, PhD.\\nThe Present Writer</td>\n      <td>https://open.spotify.com/show/3KAOtwtuHrBznKxk...</td>\n      <td>https://www.youtube.com/@ThePresentWriter</td>\n    </tr>\n    <tr>\n      <th>1</th>\n      <td>Vietcetera\\nHave A Sip</td>\n      <td>https://open.spotify.com/show/39GCuBVNprJymsZi...</td>\n      <td>https://www.youtube.com/@vietcetera</td>\n    </tr>\n    <tr>\n      <th>2</th>\n      <td>Web5ngay\\nTâm Sự Kinh Doanh</td>\n      <td>https://open.spotify.com/show/3vhBp6pPJEYgGfOX...</td>\n      <td>https://youtube.com/Web5Ngay</td>\n    </tr>\n    <tr>\n      <th>3</th>\n      <td>Vietcetera\\nBít Tất</td>\n      <td>https://open.spotify.com/show/5wBkOONYurtHuTRg...</td>\n      <td>https://www.youtube.com/@vietcetera</td>\n    </tr>\n    <tr>\n      <th>4</th>\n      <td>Giang ơi Radio\\nGiang ơi Radio</td>\n      <td>https://open.spotify.com/show/0X0b4Wb7cgvs7UCV...</td>\n      <td>https://www.youtube.com/@GiangOi</td>\n    </tr>\n    <tr>\n      <th>...</th>\n      <td>...</td>\n      <td>...</td>\n      <td>...</td>\n    </tr>\n    <tr>\n      <th>195</th>\n      <td>MR BLANC</td>\n      <td>https://open.spotify.com/show/1mXARZXjYKWmb1Gs...</td>\n      <td>https://www.youtube.com/@mrblancuk</td>\n    </tr>\n    <tr>\n      <th>196</th>\n      <td>Luke Thompson\\nLuke's ENGLISH Podcast - Learn ...</td>\n      <td>https://open.spotify.com/show/4X48gpjrctXNJWtO...</td>\n      <td>https://www.youtube.com/@LukesEnglishPodcast</td>\n    </tr>\n    <tr>\n      <th>197</th>\n      <td>Hành trình về Phương Đông (Bản FULL Sách nói h...</td>\n      <td>https://open.spotify.com/show/5f4B7Wc42i739wJy...</td>\n      <td>https://www.youtube.com/@VoizFM</td>\n    </tr>\n    <tr>\n      <th>198</th>\n      <td>Thư Lê Elite Guy</td>\n      <td>NaN</td>\n      <td>https://www.youtube.com/watch?v=p19UgpkKOSc</td>\n    </tr>\n    <tr>\n      <th>199</th>\n      <td>Hà Nội Radio</td>\n      <td>https://open.spotify.com/show/6neZtblsMoixE6MD...</td>\n      <td>NaN</td>\n    </tr>\n  </tbody>\n</table>\n<p>200 rows × 3 columns</p>\n</div>"
     },
     "execution_count": 9,
     "metadata": {},
     "output_type": "execute_result"
    }
   ],
   "source": [
    "df = pd.read_csv(PATH + '/data/podcast_list - chartable.csv')\n",
    "df.drop(columns=['Unnamed: 0','Unnamed: 1'], inplace=True)\n",
    "df\n"
   ],
   "metadata": {
    "collapsed": false,
    "ExecuteTime": {
     "end_time": "2023-07-21T10:08:24.913462727Z",
     "start_time": "2023-07-21T10:08:24.891058829Z"
    }
   }
  },
  {
   "cell_type": "code",
   "execution_count": null,
   "outputs": [],
   "source": [],
   "metadata": {
    "collapsed": false
   }
  }
 ],
 "metadata": {
  "kernelspec": {
   "display_name": "Python 3",
   "language": "python",
   "name": "python3"
  },
  "language_info": {
   "codemirror_mode": {
    "name": "ipython",
    "version": 2
   },
   "file_extension": ".py",
   "mimetype": "text/x-python",
   "name": "python",
   "nbconvert_exporter": "python",
   "pygments_lexer": "ipython2",
   "version": "2.7.6"
  }
 },
 "nbformat": 4,
 "nbformat_minor": 0
}
