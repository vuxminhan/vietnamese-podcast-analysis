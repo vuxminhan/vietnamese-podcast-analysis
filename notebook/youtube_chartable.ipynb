{
 "cells": [
  {
   "cell_type": "code",
   "execution_count": 21,
   "id": "initial_id",
   "metadata": {
    "collapsed": true,
    "ExecuteTime": {
     "end_time": "2023-09-14T07:45:42.356Z",
     "start_time": "2023-09-14T07:45:42.347827Z"
    }
   },
   "outputs": [],
   "source": [
    "import numpy as np\n",
    "import pandas as pd\n",
    "from wordcloud import WordCloud\n",
    "import matplotlib.pyplot as plt\n",
    "import os\n",
    "from dotenv import load_dotenv\n",
    "import re\n",
    "import ast"
   ]
  },
  {
   "cell_type": "code",
   "execution_count": 22,
   "id": "a18bb1abeb701d59",
   "metadata": {
    "collapsed": false,
    "ExecuteTime": {
     "end_time": "2023-09-14T07:45:42.356338Z",
     "start_time": "2023-09-14T07:45:42.351496Z"
    }
   },
   "outputs": [],
   "source": [
    "attributes = ['title', 'description', 'publishedAt', 'channelTitle', 'tags', 'viewCount', 'likeCount', 'topicCategories']"
   ]
  },
  {
   "cell_type": "code",
   "execution_count": 23,
   "id": "767c39fbd3a53e71",
   "metadata": {
    "collapsed": false,
    "ExecuteTime": {
     "end_time": "2023-09-14T07:45:43.903685Z",
     "start_time": "2023-09-14T07:45:42.353723Z"
    }
   },
   "outputs": [
    {
     "data": {
      "text/plain": "                id                                              title  \\\n0      t6E7Rvd6Hfc  Tình yêu là quyền lực mạnh mẽ nhất -  Tiến sĩ ...   \n1      DgKahpjt-jc  Điều gì xảy ra khi nhờ DJ bật bài mình thích -...   \n2      HYr9DNoWESc  Từ bỏ công việc lương cao để trở thành DJ - DJ...   \n3      nWnw0ZTh_ws  “Tao là cha, nên mày phải…” - Tiến sĩ Lê Nguyê...   \n4      RjEyy76OplE  Cuộc chiến trong gia đình, không ai là người c...   \n...            ...                                                ...   \n59857  G3EigEXWKM4    Các lỗi thường gặp khiến OKRs thất bại | VNOKRs   \n59858  G0eFwlAHSPw  Theo dõi OKRs, hướng dẫn chấm điểm, checkin, đ...   \n59859  gaQxjtkWFD8  Cách viết OKRs đúng và tốt ngay từ đầu (Phần 1...   \n59860  PKh5bnfCQC4   Các bước bắt đầu triển khai đưa OKRs vào công ty   \n59861  hvV-n6Uhmx0              OKRs không xếp tầng - Cái sai của Sếp   \n\n                                             description  \\\n0                                                    NaN   \n1                                                    NaN   \n2      Đừng quên đăng ký theo dõi kênh YouTube của Vi...   \n3                                                    NaN   \n4      Đừng quên đăng ký theo dõi Vietcetera nhé: htt...   \n...                                                  ...   \n59857  OKRs là Simple, nhưng là simple khi so sánh vớ...   \n59858  \"Tầm nhìn mà không thực thi thì chỉ là hão huy...   \n59859  OKRs là công cụ quản trị mục tiêu đơn giản.\\nS...   \n59860  OKRs là một hệ thống quản trị mục tiêu.\\nBề ng...   \n59861  Đây là video chia sẻ về OKRs đầu tiên của tôi....   \n\n                publishedAt                 channelId channelTitle  \\\n0      2023-07-23T04:00:28Z  UCORwVnph7TK6rmyKozkV8_g   Vietcetera   \n1      2023-07-22T13:00:19Z  UCORwVnph7TK6rmyKozkV8_g   Vietcetera   \n2      2023-07-22T04:00:09Z  UCORwVnph7TK6rmyKozkV8_g   Vietcetera   \n3      2023-07-21T13:00:42Z  UCORwVnph7TK6rmyKozkV8_g   Vietcetera   \n4      2023-07-21T13:00:09Z  UCORwVnph7TK6rmyKozkV8_g   Vietcetera   \n...                     ...                       ...          ...   \n59857  2020-05-09T16:47:35Z  UC6x44v7elqhEICapwN7laJw       VNOKRs   \n59858  2020-04-30T15:39:33Z  UC6x44v7elqhEICapwN7laJw       VNOKRs   \n59859  2020-04-24T08:24:24Z  UC6x44v7elqhEICapwN7laJw       VNOKRs   \n59860  2020-04-14T19:08:53Z  UC6x44v7elqhEICapwN7laJw       VNOKRs   \n59861  2020-04-01T18:12:50Z  UC6x44v7elqhEICapwN7laJw       VNOKRs   \n\n       categoryId                                               tags  \\\n0              22    ['vietcetera', 'podcast', 'vietcetera podcast']   \n1              22    ['vietcetera', 'podcast', 'vietcetera podcast']   \n2              22    ['vietcetera', 'podcast', 'vietcetera podcast']   \n3              22    ['vietcetera', 'podcast', 'vietcetera podcast']   \n4              22    ['vietcetera', 'podcast', 'vietcetera podcast']   \n...           ...                                                ...   \n59857          27         ['okrs', 'vnokrs', 'okrs sai', 'lỗi okrs']   \n59858          27  ['okrs', 'vnokrs', 'okrstool', 'check-in', 'ch...   \n59859          27                    ['okrs', 'vnokrs', 'viết okrs']   \n59860          22  ['okrs', 'vnokrs', 'triển khai okrs', 'làm okrs']   \n59861          22  ['okrs', 'quản trị', 'quản trị mục tiêu', 'quả...   \n\n         duration  viewCount  likeCount  commentCount  \\\n0           PT53S       3611      296.0           3.0   \n1           PT52S       4132       60.0           0.0   \n2        PT27M55S       4965      124.0           8.0   \n3           PT56S      11809      581.0           9.0   \n4      PT1H54M32S      83388     3268.0         186.0   \n...           ...        ...        ...           ...   \n59857  PT1H26M32S      10651       32.0          11.0   \n59858   PT1H7M47S      26940       81.0          11.0   \n59859  PT1H27M16S     221742      322.0          46.0   \n59860  PT2H14M59S      23770       98.0          16.0   \n59861  PT1H19M10S      21436       60.0           8.0   \n\n                                         topicCategories  \n0      ['https://en.wikipedia.org/wiki/Religion', 'ht...  \n1        ['https://en.wikipedia.org/wiki/Entertainment']  \n2                                                    NaN  \n3      ['https://en.wikipedia.org/wiki/Religion', 'ht...  \n4              ['https://en.wikipedia.org/wiki/Society']  \n...                                                  ...  \n59857         ['https://en.wikipedia.org/wiki/Business']  \n59858         ['https://en.wikipedia.org/wiki/Business']  \n59859  ['https://en.wikipedia.org/wiki/Business', 'ht...  \n59860         ['https://en.wikipedia.org/wiki/Business']  \n59861         ['https://en.wikipedia.org/wiki/Business']  \n\n[59862 rows x 13 columns]",
      "text/html": "<div>\n<style scoped>\n    .dataframe tbody tr th:only-of-type {\n        vertical-align: middle;\n    }\n\n    .dataframe tbody tr th {\n        vertical-align: top;\n    }\n\n    .dataframe thead th {\n        text-align: right;\n    }\n</style>\n<table border=\"1\" class=\"dataframe\">\n  <thead>\n    <tr style=\"text-align: right;\">\n      <th></th>\n      <th>id</th>\n      <th>title</th>\n      <th>description</th>\n      <th>publishedAt</th>\n      <th>channelId</th>\n      <th>channelTitle</th>\n      <th>categoryId</th>\n      <th>tags</th>\n      <th>duration</th>\n      <th>viewCount</th>\n      <th>likeCount</th>\n      <th>commentCount</th>\n      <th>topicCategories</th>\n    </tr>\n  </thead>\n  <tbody>\n    <tr>\n      <th>0</th>\n      <td>t6E7Rvd6Hfc</td>\n      <td>Tình yêu là quyền lực mạnh mẽ nhất -  Tiến sĩ ...</td>\n      <td>NaN</td>\n      <td>2023-07-23T04:00:28Z</td>\n      <td>UCORwVnph7TK6rmyKozkV8_g</td>\n      <td>Vietcetera</td>\n      <td>22</td>\n      <td>['vietcetera', 'podcast', 'vietcetera podcast']</td>\n      <td>PT53S</td>\n      <td>3611</td>\n      <td>296.0</td>\n      <td>3.0</td>\n      <td>['https://en.wikipedia.org/wiki/Religion', 'ht...</td>\n    </tr>\n    <tr>\n      <th>1</th>\n      <td>DgKahpjt-jc</td>\n      <td>Điều gì xảy ra khi nhờ DJ bật bài mình thích -...</td>\n      <td>NaN</td>\n      <td>2023-07-22T13:00:19Z</td>\n      <td>UCORwVnph7TK6rmyKozkV8_g</td>\n      <td>Vietcetera</td>\n      <td>22</td>\n      <td>['vietcetera', 'podcast', 'vietcetera podcast']</td>\n      <td>PT52S</td>\n      <td>4132</td>\n      <td>60.0</td>\n      <td>0.0</td>\n      <td>['https://en.wikipedia.org/wiki/Entertainment']</td>\n    </tr>\n    <tr>\n      <th>2</th>\n      <td>HYr9DNoWESc</td>\n      <td>Từ bỏ công việc lương cao để trở thành DJ - DJ...</td>\n      <td>Đừng quên đăng ký theo dõi kênh YouTube của Vi...</td>\n      <td>2023-07-22T04:00:09Z</td>\n      <td>UCORwVnph7TK6rmyKozkV8_g</td>\n      <td>Vietcetera</td>\n      <td>22</td>\n      <td>['vietcetera', 'podcast', 'vietcetera podcast']</td>\n      <td>PT27M55S</td>\n      <td>4965</td>\n      <td>124.0</td>\n      <td>8.0</td>\n      <td>NaN</td>\n    </tr>\n    <tr>\n      <th>3</th>\n      <td>nWnw0ZTh_ws</td>\n      <td>“Tao là cha, nên mày phải…” - Tiến sĩ Lê Nguyê...</td>\n      <td>NaN</td>\n      <td>2023-07-21T13:00:42Z</td>\n      <td>UCORwVnph7TK6rmyKozkV8_g</td>\n      <td>Vietcetera</td>\n      <td>22</td>\n      <td>['vietcetera', 'podcast', 'vietcetera podcast']</td>\n      <td>PT56S</td>\n      <td>11809</td>\n      <td>581.0</td>\n      <td>9.0</td>\n      <td>['https://en.wikipedia.org/wiki/Religion', 'ht...</td>\n    </tr>\n    <tr>\n      <th>4</th>\n      <td>RjEyy76OplE</td>\n      <td>Cuộc chiến trong gia đình, không ai là người c...</td>\n      <td>Đừng quên đăng ký theo dõi Vietcetera nhé: htt...</td>\n      <td>2023-07-21T13:00:09Z</td>\n      <td>UCORwVnph7TK6rmyKozkV8_g</td>\n      <td>Vietcetera</td>\n      <td>22</td>\n      <td>['vietcetera', 'podcast', 'vietcetera podcast']</td>\n      <td>PT1H54M32S</td>\n      <td>83388</td>\n      <td>3268.0</td>\n      <td>186.0</td>\n      <td>['https://en.wikipedia.org/wiki/Society']</td>\n    </tr>\n    <tr>\n      <th>...</th>\n      <td>...</td>\n      <td>...</td>\n      <td>...</td>\n      <td>...</td>\n      <td>...</td>\n      <td>...</td>\n      <td>...</td>\n      <td>...</td>\n      <td>...</td>\n      <td>...</td>\n      <td>...</td>\n      <td>...</td>\n      <td>...</td>\n    </tr>\n    <tr>\n      <th>59857</th>\n      <td>G3EigEXWKM4</td>\n      <td>Các lỗi thường gặp khiến OKRs thất bại | VNOKRs</td>\n      <td>OKRs là Simple, nhưng là simple khi so sánh vớ...</td>\n      <td>2020-05-09T16:47:35Z</td>\n      <td>UC6x44v7elqhEICapwN7laJw</td>\n      <td>VNOKRs</td>\n      <td>27</td>\n      <td>['okrs', 'vnokrs', 'okrs sai', 'lỗi okrs']</td>\n      <td>PT1H26M32S</td>\n      <td>10651</td>\n      <td>32.0</td>\n      <td>11.0</td>\n      <td>['https://en.wikipedia.org/wiki/Business']</td>\n    </tr>\n    <tr>\n      <th>59858</th>\n      <td>G0eFwlAHSPw</td>\n      <td>Theo dõi OKRs, hướng dẫn chấm điểm, checkin, đ...</td>\n      <td>\"Tầm nhìn mà không thực thi thì chỉ là hão huy...</td>\n      <td>2020-04-30T15:39:33Z</td>\n      <td>UC6x44v7elqhEICapwN7laJw</td>\n      <td>VNOKRs</td>\n      <td>27</td>\n      <td>['okrs', 'vnokrs', 'okrstool', 'check-in', 'ch...</td>\n      <td>PT1H7M47S</td>\n      <td>26940</td>\n      <td>81.0</td>\n      <td>11.0</td>\n      <td>['https://en.wikipedia.org/wiki/Business']</td>\n    </tr>\n    <tr>\n      <th>59859</th>\n      <td>gaQxjtkWFD8</td>\n      <td>Cách viết OKRs đúng và tốt ngay từ đầu (Phần 1...</td>\n      <td>OKRs là công cụ quản trị mục tiêu đơn giản.\\nS...</td>\n      <td>2020-04-24T08:24:24Z</td>\n      <td>UC6x44v7elqhEICapwN7laJw</td>\n      <td>VNOKRs</td>\n      <td>27</td>\n      <td>['okrs', 'vnokrs', 'viết okrs']</td>\n      <td>PT1H27M16S</td>\n      <td>221742</td>\n      <td>322.0</td>\n      <td>46.0</td>\n      <td>['https://en.wikipedia.org/wiki/Business', 'ht...</td>\n    </tr>\n    <tr>\n      <th>59860</th>\n      <td>PKh5bnfCQC4</td>\n      <td>Các bước bắt đầu triển khai đưa OKRs vào công ty</td>\n      <td>OKRs là một hệ thống quản trị mục tiêu.\\nBề ng...</td>\n      <td>2020-04-14T19:08:53Z</td>\n      <td>UC6x44v7elqhEICapwN7laJw</td>\n      <td>VNOKRs</td>\n      <td>22</td>\n      <td>['okrs', 'vnokrs', 'triển khai okrs', 'làm okrs']</td>\n      <td>PT2H14M59S</td>\n      <td>23770</td>\n      <td>98.0</td>\n      <td>16.0</td>\n      <td>['https://en.wikipedia.org/wiki/Business']</td>\n    </tr>\n    <tr>\n      <th>59861</th>\n      <td>hvV-n6Uhmx0</td>\n      <td>OKRs không xếp tầng - Cái sai của Sếp</td>\n      <td>Đây là video chia sẻ về OKRs đầu tiên của tôi....</td>\n      <td>2020-04-01T18:12:50Z</td>\n      <td>UC6x44v7elqhEICapwN7laJw</td>\n      <td>VNOKRs</td>\n      <td>22</td>\n      <td>['okrs', 'quản trị', 'quản trị mục tiêu', 'quả...</td>\n      <td>PT1H19M10S</td>\n      <td>21436</td>\n      <td>60.0</td>\n      <td>8.0</td>\n      <td>['https://en.wikipedia.org/wiki/Business']</td>\n    </tr>\n  </tbody>\n</table>\n<p>59862 rows × 13 columns</p>\n</div>"
     },
     "execution_count": 23,
     "metadata": {},
     "output_type": "execute_result"
    }
   ],
   "source": [
    "load_dotenv()\n",
    "PATH = (os.environ.get('P'))\n",
    "file_path = PATH + '/data/podcast_list - chartable - channel_details - vn - no duplicates - videodetails - 59862 records.csv'\n",
    "df = pd.read_csv(file_path) \n",
    "df"
   ]
  },
  {
   "cell_type": "code",
   "execution_count": 24,
   "id": "87a0413b9b679a41",
   "metadata": {
    "collapsed": false,
    "ExecuteTime": {
     "end_time": "2023-09-14T07:45:43.910478Z",
     "start_time": "2023-09-14T07:45:43.902259Z"
    }
   },
   "outputs": [
    {
     "data": {
      "text/plain": "                                                   title  \\\n0      Tình yêu là quyền lực mạnh mẽ nhất -  Tiến sĩ ...   \n1      Điều gì xảy ra khi nhờ DJ bật bài mình thích -...   \n2      Từ bỏ công việc lương cao để trở thành DJ - DJ...   \n3      “Tao là cha, nên mày phải…” - Tiến sĩ Lê Nguyê...   \n4      Cuộc chiến trong gia đình, không ai là người c...   \n...                                                  ...   \n59857    Các lỗi thường gặp khiến OKRs thất bại | VNOKRs   \n59858  Theo dõi OKRs, hướng dẫn chấm điểm, checkin, đ...   \n59859  Cách viết OKRs đúng và tốt ngay từ đầu (Phần 1...   \n59860   Các bước bắt đầu triển khai đưa OKRs vào công ty   \n59861              OKRs không xếp tầng - Cái sai của Sếp   \n\n                                             description  \\\n0                                                    NaN   \n1                                                    NaN   \n2      Đừng quên đăng ký theo dõi kênh YouTube của Vi...   \n3                                                    NaN   \n4      Đừng quên đăng ký theo dõi Vietcetera nhé: htt...   \n...                                                  ...   \n59857  OKRs là Simple, nhưng là simple khi so sánh vớ...   \n59858  \"Tầm nhìn mà không thực thi thì chỉ là hão huy...   \n59859  OKRs là công cụ quản trị mục tiêu đơn giản.\\nS...   \n59860  OKRs là một hệ thống quản trị mục tiêu.\\nBề ng...   \n59861  Đây là video chia sẻ về OKRs đầu tiên của tôi....   \n\n                publishedAt channelTitle  \\\n0      2023-07-23T04:00:28Z   Vietcetera   \n1      2023-07-22T13:00:19Z   Vietcetera   \n2      2023-07-22T04:00:09Z   Vietcetera   \n3      2023-07-21T13:00:42Z   Vietcetera   \n4      2023-07-21T13:00:09Z   Vietcetera   \n...                     ...          ...   \n59857  2020-05-09T16:47:35Z       VNOKRs   \n59858  2020-04-30T15:39:33Z       VNOKRs   \n59859  2020-04-24T08:24:24Z       VNOKRs   \n59860  2020-04-14T19:08:53Z       VNOKRs   \n59861  2020-04-01T18:12:50Z       VNOKRs   \n\n                                                    tags  viewCount  \\\n0        ['vietcetera', 'podcast', 'vietcetera podcast']       3611   \n1        ['vietcetera', 'podcast', 'vietcetera podcast']       4132   \n2        ['vietcetera', 'podcast', 'vietcetera podcast']       4965   \n3        ['vietcetera', 'podcast', 'vietcetera podcast']      11809   \n4        ['vietcetera', 'podcast', 'vietcetera podcast']      83388   \n...                                                  ...        ...   \n59857         ['okrs', 'vnokrs', 'okrs sai', 'lỗi okrs']      10651   \n59858  ['okrs', 'vnokrs', 'okrstool', 'check-in', 'ch...      26940   \n59859                    ['okrs', 'vnokrs', 'viết okrs']     221742   \n59860  ['okrs', 'vnokrs', 'triển khai okrs', 'làm okrs']      23770   \n59861  ['okrs', 'quản trị', 'quản trị mục tiêu', 'quả...      21436   \n\n       likeCount                                    topicCategories  \n0          296.0  ['https://en.wikipedia.org/wiki/Religion', 'ht...  \n1           60.0    ['https://en.wikipedia.org/wiki/Entertainment']  \n2          124.0                                                NaN  \n3          581.0  ['https://en.wikipedia.org/wiki/Religion', 'ht...  \n4         3268.0          ['https://en.wikipedia.org/wiki/Society']  \n...          ...                                                ...  \n59857       32.0         ['https://en.wikipedia.org/wiki/Business']  \n59858       81.0         ['https://en.wikipedia.org/wiki/Business']  \n59859      322.0  ['https://en.wikipedia.org/wiki/Business', 'ht...  \n59860       98.0         ['https://en.wikipedia.org/wiki/Business']  \n59861       60.0         ['https://en.wikipedia.org/wiki/Business']  \n\n[59862 rows x 8 columns]",
      "text/html": "<div>\n<style scoped>\n    .dataframe tbody tr th:only-of-type {\n        vertical-align: middle;\n    }\n\n    .dataframe tbody tr th {\n        vertical-align: top;\n    }\n\n    .dataframe thead th {\n        text-align: right;\n    }\n</style>\n<table border=\"1\" class=\"dataframe\">\n  <thead>\n    <tr style=\"text-align: right;\">\n      <th></th>\n      <th>title</th>\n      <th>description</th>\n      <th>publishedAt</th>\n      <th>channelTitle</th>\n      <th>tags</th>\n      <th>viewCount</th>\n      <th>likeCount</th>\n      <th>topicCategories</th>\n    </tr>\n  </thead>\n  <tbody>\n    <tr>\n      <th>0</th>\n      <td>Tình yêu là quyền lực mạnh mẽ nhất -  Tiến sĩ ...</td>\n      <td>NaN</td>\n      <td>2023-07-23T04:00:28Z</td>\n      <td>Vietcetera</td>\n      <td>['vietcetera', 'podcast', 'vietcetera podcast']</td>\n      <td>3611</td>\n      <td>296.0</td>\n      <td>['https://en.wikipedia.org/wiki/Religion', 'ht...</td>\n    </tr>\n    <tr>\n      <th>1</th>\n      <td>Điều gì xảy ra khi nhờ DJ bật bài mình thích -...</td>\n      <td>NaN</td>\n      <td>2023-07-22T13:00:19Z</td>\n      <td>Vietcetera</td>\n      <td>['vietcetera', 'podcast', 'vietcetera podcast']</td>\n      <td>4132</td>\n      <td>60.0</td>\n      <td>['https://en.wikipedia.org/wiki/Entertainment']</td>\n    </tr>\n    <tr>\n      <th>2</th>\n      <td>Từ bỏ công việc lương cao để trở thành DJ - DJ...</td>\n      <td>Đừng quên đăng ký theo dõi kênh YouTube của Vi...</td>\n      <td>2023-07-22T04:00:09Z</td>\n      <td>Vietcetera</td>\n      <td>['vietcetera', 'podcast', 'vietcetera podcast']</td>\n      <td>4965</td>\n      <td>124.0</td>\n      <td>NaN</td>\n    </tr>\n    <tr>\n      <th>3</th>\n      <td>“Tao là cha, nên mày phải…” - Tiến sĩ Lê Nguyê...</td>\n      <td>NaN</td>\n      <td>2023-07-21T13:00:42Z</td>\n      <td>Vietcetera</td>\n      <td>['vietcetera', 'podcast', 'vietcetera podcast']</td>\n      <td>11809</td>\n      <td>581.0</td>\n      <td>['https://en.wikipedia.org/wiki/Religion', 'ht...</td>\n    </tr>\n    <tr>\n      <th>4</th>\n      <td>Cuộc chiến trong gia đình, không ai là người c...</td>\n      <td>Đừng quên đăng ký theo dõi Vietcetera nhé: htt...</td>\n      <td>2023-07-21T13:00:09Z</td>\n      <td>Vietcetera</td>\n      <td>['vietcetera', 'podcast', 'vietcetera podcast']</td>\n      <td>83388</td>\n      <td>3268.0</td>\n      <td>['https://en.wikipedia.org/wiki/Society']</td>\n    </tr>\n    <tr>\n      <th>...</th>\n      <td>...</td>\n      <td>...</td>\n      <td>...</td>\n      <td>...</td>\n      <td>...</td>\n      <td>...</td>\n      <td>...</td>\n      <td>...</td>\n    </tr>\n    <tr>\n      <th>59857</th>\n      <td>Các lỗi thường gặp khiến OKRs thất bại | VNOKRs</td>\n      <td>OKRs là Simple, nhưng là simple khi so sánh vớ...</td>\n      <td>2020-05-09T16:47:35Z</td>\n      <td>VNOKRs</td>\n      <td>['okrs', 'vnokrs', 'okrs sai', 'lỗi okrs']</td>\n      <td>10651</td>\n      <td>32.0</td>\n      <td>['https://en.wikipedia.org/wiki/Business']</td>\n    </tr>\n    <tr>\n      <th>59858</th>\n      <td>Theo dõi OKRs, hướng dẫn chấm điểm, checkin, đ...</td>\n      <td>\"Tầm nhìn mà không thực thi thì chỉ là hão huy...</td>\n      <td>2020-04-30T15:39:33Z</td>\n      <td>VNOKRs</td>\n      <td>['okrs', 'vnokrs', 'okrstool', 'check-in', 'ch...</td>\n      <td>26940</td>\n      <td>81.0</td>\n      <td>['https://en.wikipedia.org/wiki/Business']</td>\n    </tr>\n    <tr>\n      <th>59859</th>\n      <td>Cách viết OKRs đúng và tốt ngay từ đầu (Phần 1...</td>\n      <td>OKRs là công cụ quản trị mục tiêu đơn giản.\\nS...</td>\n      <td>2020-04-24T08:24:24Z</td>\n      <td>VNOKRs</td>\n      <td>['okrs', 'vnokrs', 'viết okrs']</td>\n      <td>221742</td>\n      <td>322.0</td>\n      <td>['https://en.wikipedia.org/wiki/Business', 'ht...</td>\n    </tr>\n    <tr>\n      <th>59860</th>\n      <td>Các bước bắt đầu triển khai đưa OKRs vào công ty</td>\n      <td>OKRs là một hệ thống quản trị mục tiêu.\\nBề ng...</td>\n      <td>2020-04-14T19:08:53Z</td>\n      <td>VNOKRs</td>\n      <td>['okrs', 'vnokrs', 'triển khai okrs', 'làm okrs']</td>\n      <td>23770</td>\n      <td>98.0</td>\n      <td>['https://en.wikipedia.org/wiki/Business']</td>\n    </tr>\n    <tr>\n      <th>59861</th>\n      <td>OKRs không xếp tầng - Cái sai của Sếp</td>\n      <td>Đây là video chia sẻ về OKRs đầu tiên của tôi....</td>\n      <td>2020-04-01T18:12:50Z</td>\n      <td>VNOKRs</td>\n      <td>['okrs', 'quản trị', 'quản trị mục tiêu', 'quả...</td>\n      <td>21436</td>\n      <td>60.0</td>\n      <td>['https://en.wikipedia.org/wiki/Business']</td>\n    </tr>\n  </tbody>\n</table>\n<p>59862 rows × 8 columns</p>\n</div>"
     },
     "execution_count": 24,
     "metadata": {},
     "output_type": "execute_result"
    }
   ],
   "source": [
    "df = df[attributes]\n",
    "df"
   ]
  },
  {
   "cell_type": "code",
   "execution_count": 25,
   "id": "4c19eaa4584c141a",
   "metadata": {
    "collapsed": false,
    "ExecuteTime": {
     "end_time": "2023-09-14T07:45:44.189124Z",
     "start_time": "2023-09-14T07:45:43.971265Z"
    }
   },
   "outputs": [
    {
     "name": "stderr",
     "output_type": "stream",
     "text": [
      "/var/folders/mp/v9hjfv017hbfgx9mc09nw2y80000gn/T/ipykernel_71112/1479252823.py:16: SettingWithCopyWarning: \n",
      "A value is trying to be set on a copy of a slice from a DataFrame.\n",
      "Try using .loc[row_indexer,col_indexer] = value instead\n",
      "\n",
      "See the caveats in the documentation: https://pandas.pydata.org/pandas-docs/stable/user_guide/indexing.html#returning-a-view-versus-a-copy\n",
      "  df.topicCategories = df.topicCategories.apply(topic_to_word)\n"
     ]
    },
    {
     "data": {
      "text/plain": "0          ['Religion', 'Society']\n1                ['Entertainment']\n2                                 \n3          ['Religion', 'Society']\n4                      ['Society']\n                   ...            \n59857                 ['Business']\n59858                 ['Business']\n59859    ['Business', 'Knowledge']\n59860                 ['Business']\n59861                 ['Business']\nName: topicCategories, Length: 59862, dtype: object"
     },
     "execution_count": 25,
     "metadata": {},
     "output_type": "execute_result"
    }
   ],
   "source": [
    "# Convert topic link to word\n",
    "def topic_to_word(topic):\n",
    "    if topic is np.nan:\n",
    "        return ''\n",
    "    elif topic[0] == '[':\n",
    "        topics = ast.literal_eval(topic)\n",
    "        result = []\n",
    "        for topic in topics:\n",
    "                topic = topic.split('/')[-1]\n",
    "                result.append(topic)\n",
    "        return str(result)\n",
    "    else:\n",
    "        topic = topic.split('/')[-1]\n",
    "        return str(topic)\n",
    "    \n",
    "df.topicCategories = df.topicCategories.apply(topic_to_word)\n",
    "df.topicCategories\n"
   ]
  },
  {
   "cell_type": "code",
   "execution_count": 26,
   "id": "5be1ceff",
   "metadata": {
    "ExecuteTime": {
     "end_time": "2023-09-14T07:45:45.664542Z",
     "start_time": "2023-09-14T07:45:44.252243Z"
    }
   },
   "outputs": [
    {
     "name": "stderr",
     "output_type": "stream",
     "text": [
      "/var/folders/mp/v9hjfv017hbfgx9mc09nw2y80000gn/T/ipykernel_71112/383610815.py:14: SettingWithCopyWarning: \n",
      "A value is trying to be set on a copy of a slice from a DataFrame.\n",
      "Try using .loc[row_indexer,col_indexer] = value instead\n",
      "\n",
      "See the caveats in the documentation: https://pandas.pydata.org/pandas-docs/stable/user_guide/indexing.html#returning-a-view-versus-a-copy\n",
      "  df.tags = df.tags.apply(process_tags)\n",
      "/var/folders/mp/v9hjfv017hbfgx9mc09nw2y80000gn/T/ipykernel_71112/383610815.py:15: SettingWithCopyWarning: \n",
      "A value is trying to be set on a copy of a slice from a DataFrame.\n",
      "Try using .loc[row_indexer,col_indexer] = value instead\n",
      "\n",
      "See the caveats in the documentation: https://pandas.pydata.org/pandas-docs/stable/user_guide/indexing.html#returning-a-view-versus-a-copy\n",
      "  df.topicCategories = df.topicCategories.apply(process_tags)\n"
     ]
    },
    {
     "data": {
      "text/plain": "                                                   title  \\\n0      Tình yêu là quyền lực mạnh mẽ nhất -  Tiến sĩ ...   \n1      Điều gì xảy ra khi nhờ DJ bật bài mình thích -...   \n2      Từ bỏ công việc lương cao để trở thành DJ - DJ...   \n3      “Tao là cha, nên mày phải…” - Tiến sĩ Lê Nguyê...   \n4      Cuộc chiến trong gia đình, không ai là người c...   \n...                                                  ...   \n59857    Các lỗi thường gặp khiến OKRs thất bại | VNOKRs   \n59858  Theo dõi OKRs, hướng dẫn chấm điểm, checkin, đ...   \n59859  Cách viết OKRs đúng và tốt ngay từ đầu (Phần 1...   \n59860   Các bước bắt đầu triển khai đưa OKRs vào công ty   \n59861              OKRs không xếp tầng - Cái sai của Sếp   \n\n                                             description  \\\n0                                                    NaN   \n1                                                    NaN   \n2      Đừng quên đăng ký theo dõi kênh YouTube của Vi...   \n3                                                    NaN   \n4      Đừng quên đăng ký theo dõi Vietcetera nhé: htt...   \n...                                                  ...   \n59857  OKRs là Simple, nhưng là simple khi so sánh vớ...   \n59858  \"Tầm nhìn mà không thực thi thì chỉ là hão huy...   \n59859  OKRs là công cụ quản trị mục tiêu đơn giản.\\nS...   \n59860  OKRs là một hệ thống quản trị mục tiêu.\\nBề ng...   \n59861  Đây là video chia sẻ về OKRs đầu tiên của tôi....   \n\n                publishedAt channelTitle  \\\n0      2023-07-23T04:00:28Z   Vietcetera   \n1      2023-07-22T13:00:19Z   Vietcetera   \n2      2023-07-22T04:00:09Z   Vietcetera   \n3      2023-07-21T13:00:42Z   Vietcetera   \n4      2023-07-21T13:00:09Z   Vietcetera   \n...                     ...          ...   \n59857  2020-05-09T16:47:35Z       VNOKRs   \n59858  2020-04-30T15:39:33Z       VNOKRs   \n59859  2020-04-24T08:24:24Z       VNOKRs   \n59860  2020-04-14T19:08:53Z       VNOKRs   \n59861  2020-04-01T18:12:50Z       VNOKRs   \n\n                                                    tags  viewCount  \\\n0                  vietcetera podcast vietcetera_podcast       3611   \n1                  vietcetera podcast vietcetera_podcast       4132   \n2                  vietcetera podcast vietcetera_podcast       4965   \n3                  vietcetera podcast vietcetera_podcast      11809   \n4                  vietcetera podcast vietcetera_podcast      83388   \n...                                                  ...        ...   \n59857                      okrs vnokrs okrs_sai lỗi_okrs      10651   \n59858  okrs vnokrs okrstool check-in checkin checkino...      26940   \n59859                              okrs vnokrs viết_okrs     221742   \n59860               okrs vnokrs triển_khai_okrs làm_okrs      23770   \n59861  okrs quản_trị quản_trị_mục_tiêu quản_lý_nhân_v...      21436   \n\n       likeCount     topicCategories  \n0          296.0    religion society  \n1           60.0       entertainment  \n2          124.0                      \n3          581.0    religion society  \n4         3268.0             society  \n...          ...                 ...  \n59857       32.0            business  \n59858       81.0            business  \n59859      322.0  business knowledge  \n59860       98.0            business  \n59861       60.0            business  \n\n[59862 rows x 8 columns]",
      "text/html": "<div>\n<style scoped>\n    .dataframe tbody tr th:only-of-type {\n        vertical-align: middle;\n    }\n\n    .dataframe tbody tr th {\n        vertical-align: top;\n    }\n\n    .dataframe thead th {\n        text-align: right;\n    }\n</style>\n<table border=\"1\" class=\"dataframe\">\n  <thead>\n    <tr style=\"text-align: right;\">\n      <th></th>\n      <th>title</th>\n      <th>description</th>\n      <th>publishedAt</th>\n      <th>channelTitle</th>\n      <th>tags</th>\n      <th>viewCount</th>\n      <th>likeCount</th>\n      <th>topicCategories</th>\n    </tr>\n  </thead>\n  <tbody>\n    <tr>\n      <th>0</th>\n      <td>Tình yêu là quyền lực mạnh mẽ nhất -  Tiến sĩ ...</td>\n      <td>NaN</td>\n      <td>2023-07-23T04:00:28Z</td>\n      <td>Vietcetera</td>\n      <td>vietcetera podcast vietcetera_podcast</td>\n      <td>3611</td>\n      <td>296.0</td>\n      <td>religion society</td>\n    </tr>\n    <tr>\n      <th>1</th>\n      <td>Điều gì xảy ra khi nhờ DJ bật bài mình thích -...</td>\n      <td>NaN</td>\n      <td>2023-07-22T13:00:19Z</td>\n      <td>Vietcetera</td>\n      <td>vietcetera podcast vietcetera_podcast</td>\n      <td>4132</td>\n      <td>60.0</td>\n      <td>entertainment</td>\n    </tr>\n    <tr>\n      <th>2</th>\n      <td>Từ bỏ công việc lương cao để trở thành DJ - DJ...</td>\n      <td>Đừng quên đăng ký theo dõi kênh YouTube của Vi...</td>\n      <td>2023-07-22T04:00:09Z</td>\n      <td>Vietcetera</td>\n      <td>vietcetera podcast vietcetera_podcast</td>\n      <td>4965</td>\n      <td>124.0</td>\n      <td></td>\n    </tr>\n    <tr>\n      <th>3</th>\n      <td>“Tao là cha, nên mày phải…” - Tiến sĩ Lê Nguyê...</td>\n      <td>NaN</td>\n      <td>2023-07-21T13:00:42Z</td>\n      <td>Vietcetera</td>\n      <td>vietcetera podcast vietcetera_podcast</td>\n      <td>11809</td>\n      <td>581.0</td>\n      <td>religion society</td>\n    </tr>\n    <tr>\n      <th>4</th>\n      <td>Cuộc chiến trong gia đình, không ai là người c...</td>\n      <td>Đừng quên đăng ký theo dõi Vietcetera nhé: htt...</td>\n      <td>2023-07-21T13:00:09Z</td>\n      <td>Vietcetera</td>\n      <td>vietcetera podcast vietcetera_podcast</td>\n      <td>83388</td>\n      <td>3268.0</td>\n      <td>society</td>\n    </tr>\n    <tr>\n      <th>...</th>\n      <td>...</td>\n      <td>...</td>\n      <td>...</td>\n      <td>...</td>\n      <td>...</td>\n      <td>...</td>\n      <td>...</td>\n      <td>...</td>\n    </tr>\n    <tr>\n      <th>59857</th>\n      <td>Các lỗi thường gặp khiến OKRs thất bại | VNOKRs</td>\n      <td>OKRs là Simple, nhưng là simple khi so sánh vớ...</td>\n      <td>2020-05-09T16:47:35Z</td>\n      <td>VNOKRs</td>\n      <td>okrs vnokrs okrs_sai lỗi_okrs</td>\n      <td>10651</td>\n      <td>32.0</td>\n      <td>business</td>\n    </tr>\n    <tr>\n      <th>59858</th>\n      <td>Theo dõi OKRs, hướng dẫn chấm điểm, checkin, đ...</td>\n      <td>\"Tầm nhìn mà không thực thi thì chỉ là hão huy...</td>\n      <td>2020-04-30T15:39:33Z</td>\n      <td>VNOKRs</td>\n      <td>okrs vnokrs okrstool check-in checkin checkino...</td>\n      <td>26940</td>\n      <td>81.0</td>\n      <td>business</td>\n    </tr>\n    <tr>\n      <th>59859</th>\n      <td>Cách viết OKRs đúng và tốt ngay từ đầu (Phần 1...</td>\n      <td>OKRs là công cụ quản trị mục tiêu đơn giản.\\nS...</td>\n      <td>2020-04-24T08:24:24Z</td>\n      <td>VNOKRs</td>\n      <td>okrs vnokrs viết_okrs</td>\n      <td>221742</td>\n      <td>322.0</td>\n      <td>business knowledge</td>\n    </tr>\n    <tr>\n      <th>59860</th>\n      <td>Các bước bắt đầu triển khai đưa OKRs vào công ty</td>\n      <td>OKRs là một hệ thống quản trị mục tiêu.\\nBề ng...</td>\n      <td>2020-04-14T19:08:53Z</td>\n      <td>VNOKRs</td>\n      <td>okrs vnokrs triển_khai_okrs làm_okrs</td>\n      <td>23770</td>\n      <td>98.0</td>\n      <td>business</td>\n    </tr>\n    <tr>\n      <th>59861</th>\n      <td>OKRs không xếp tầng - Cái sai của Sếp</td>\n      <td>Đây là video chia sẻ về OKRs đầu tiên của tôi....</td>\n      <td>2020-04-01T18:12:50Z</td>\n      <td>VNOKRs</td>\n      <td>okrs quản_trị quản_trị_mục_tiêu quản_lý_nhân_v...</td>\n      <td>21436</td>\n      <td>60.0</td>\n      <td>business</td>\n    </tr>\n  </tbody>\n</table>\n<p>59862 rows × 8 columns</p>\n</div>"
     },
     "execution_count": 26,
     "metadata": {},
     "output_type": "execute_result"
    }
   ],
   "source": [
    "def process_tags(input_str):\n",
    "    try:\n",
    "        # Convert the string to a list\n",
    "        tags_list = ast.literal_eval(input_str)\n",
    "\n",
    "        # Process the list to replace spaces with underscores and join elements\n",
    "        result_str = ' '.join([word.replace(' ', '_').lower() for word in tags_list])\n",
    "\n",
    "        return result_str\n",
    "    except:\n",
    "        # Return missing value for NaN tags\n",
    "        return ' '\n",
    "    \n",
    "df.tags = df.tags.apply(process_tags)\n",
    "df.topicCategories = df.topicCategories.apply(process_tags)\n",
    "df\n"
   ]
  },
  {
   "cell_type": "code",
   "execution_count": 32,
   "outputs": [],
   "source": [
    "df.drop('description', axis=1).to_csv('youtube_chartable.csv')"
   ],
   "metadata": {
    "collapsed": false,
    "ExecuteTime": {
     "end_time": "2023-09-14T07:46:50.552326Z",
     "start_time": "2023-09-14T07:46:50.179871Z"
    }
   },
   "id": "dfb0b873f39e071"
  },
  {
   "cell_type": "code",
   "execution_count": null,
   "id": "ba1a1d7e",
   "metadata": {
    "ExecuteTime": {
     "start_time": "2023-09-14T07:45:45.700741Z"
    }
   },
   "outputs": [],
   "source": [
    "def remove_hashtag(input_string):\n",
    "    if '#' in input_string:\n",
    "        return input_string.split('#')[0]\n",
    "    else:\n",
    "        return input_string\n",
    "    \n",
    "def process_title(input_string):\n",
    "    if '|' in input_string:\n",
    "        output_string = ''.join(input_string.split('|')[:-1])\n",
    "        return remove_hashtag(output_string)\n",
    "    else:\n",
    "        return remove_hashtag(input_string)\n",
    "\n",
    "# Function to remove hashtag from title    \n",
    "titles = df.title\n",
    "for title in titles:\n",
    "    print(title)\n",
    "    print(process_title(title))\n",
    "\n"
   ]
  },
  {
   "cell_type": "code",
   "execution_count": null,
   "id": "e2639fdf",
   "metadata": {
    "ExecuteTime": {
     "start_time": "2023-09-14T07:45:45.702738Z"
    }
   },
   "outputs": [],
   "source": [
    "df.title"
   ]
  },
  {
   "cell_type": "code",
   "execution_count": null,
   "id": "48645b3b",
   "metadata": {
    "ExecuteTime": {
     "start_time": "2023-09-14T07:45:45.703412Z"
    }
   },
   "outputs": [],
   "source": []
  }
 ],
 "metadata": {
  "kernelspec": {
   "display_name": "Python 3",
   "language": "python",
   "name": "python3"
  },
  "language_info": {
   "codemirror_mode": {
    "name": "ipython",
    "version": 3
   },
   "file_extension": ".py",
   "mimetype": "text/x-python",
   "name": "python",
   "nbconvert_exporter": "python",
   "pygments_lexer": "ipython3",
   "version": "3.10.8"
  }
 },
 "nbformat": 4,
 "nbformat_minor": 5
}
